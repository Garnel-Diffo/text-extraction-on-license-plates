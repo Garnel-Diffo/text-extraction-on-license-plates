{
 "cells": [
  {
   "cell_type": "markdown",
   "id": "f78d62f1",
   "metadata": {},
   "source": [
    "# Détection et extraction de texte de Plaques d'Immatriculation avec OpenCV et EasyOCR\n",
    "\n",
    "Ce notebook présente une solution complète pour la détection et extraire du texte automatique de plaques d'immatriculation à partir d'images. Il s'appuie sur les bibliothèques **OpenCV** pour le traitement d'image et la détection de contours, et **EasyOCR** pour l'extraction du texte.\n",
    "\n",
    "Le pipeline proposé comprend :\n",
    "- Le chargement et le prétraitement des images,\n",
    "- La détection des contours et l'extraction de la région de la plaque,\n",
    "- L'application de l'OCR pour lire le texte de la plaque,\n",
    "- Un test sur des exemples d'images.\n",
    "\n",
    "Ce notebook peut servir de base pour des applications de vidéosurveillance, de contrôle d'accès ou de gestion de parking automatisée.\n",
    "\n",
    "**Prérequis** :  \n",
    "- Python 3.x  \n",
    "- OpenCV  \n",
    "- EasyOCR  "
   ]
  },
  {
   "cell_type": "markdown",
   "id": "5848ba43",
   "metadata": {},
   "source": [
    "Importations"
   ]
  },
  {
   "cell_type": "code",
   "execution_count": null,
   "id": "fbf7f1d4",
   "metadata": {},
   "outputs": [],
   "source": [
    "import cv2\n",
    "import easyocr"
   ]
  },
  {
   "cell_type": "markdown",
   "id": "423d7dda",
   "metadata": {},
   "source": [
    "## 1. Fonctions modulaires avec OpenCV"
   ]
  },
  {
   "cell_type": "code",
   "execution_count": null,
   "id": "a31a918b",
   "metadata": {},
   "outputs": [],
   "source": [
    "# 1.1. Chargement de l'image\n",
    "def load_image(image_path):\n",
    "    \"\"\"Charge une image depuis le disque.\"\"\"\n",
    "    image = cv2.imread(image_path)\n",
    "    if image is None:\n",
    "        raise ValueError(f\"Erreur de chargement : {image_path}\")\n",
    "    return image\n",
    "\n",
    "# 1.2. Prétraitement de l'image\n",
    "def preprocess_image(image):\n",
    "    \"\"\"Convertit l'image en niveaux de gris et applique un flou bilatéral.\"\"\"\n",
    "    gray = cv2.cvtColor(image, cv2.COLOR_BGR2GRAY)\n",
    "    blur = cv2.bilateralFilter(gray, d=11, sigmaColor=17, sigmaSpace=17)\n",
    "    return blur\n",
    "\n",
    "# 1.3. Détection des contours\n",
    "def detect_edges(blurred_image):\n",
    "    \"\"\"Applique Canny Edge Detection.\"\"\"\n",
    "    edged = cv2.Canny(blurred_image, threshold1=30, threshold2=200)\n",
    "    return edged\n",
    "\n",
    "# 1.4. Recherche de la plaque\n",
    "def find_plate_contour(edged_image, original_image):\n",
    "    \"\"\"Trouve la forme rectangulaire la plus probable correspondant à une plaque.\"\"\"\n",
    "    contours, _ = cv2.findContours(edged_image.copy(), cv2.RETR_TREE, cv2.CHAIN_APPROX_SIMPLE)\n",
    "    contours = sorted(contours, key=cv2.contourArea, reverse=True)[:10]\n",
    "\n",
    "    for cnt in contours:\n",
    "        perimeter = cv2.arcLength(cnt, True)\n",
    "        approx = cv2.approxPolyDP(cnt, 0.018 * perimeter, True)\n",
    "        if len(approx) == 4:  # forme rectangulaire\n",
    "            x, y, w, h = cv2.boundingRect(approx)\n",
    "            plate = original_image[y:y + h, x:x + w]\n",
    "            return plate\n",
    "    return None\n"
   ]
  },
  {
   "cell_type": "markdown",
   "id": "984c923f",
   "metadata": {},
   "source": [
    "## 2. Extraction du texte avec EasyOCR"
   ]
  },
  {
   "cell_type": "code",
   "execution_count": 18,
   "id": "d694b47c",
   "metadata": {},
   "outputs": [],
   "source": [
    "def extract_text_from_plate(plate_image):\n",
    "    \"\"\"Utilise EasyOCR pour extraire le texte d'une plaque.\"\"\"\n",
    "    reader = easyocr.Reader(['en', 'fr'], gpu=False)\n",
    "    result = reader.readtext(plate_image)\n",
    "    texts = [item[1] for item in result]\n",
    "    return \" \".join(texts) if texts else \"Aucun texte détecté\"\n"
   ]
  },
  {
   "cell_type": "markdown",
   "id": "dc451bbb",
   "metadata": {},
   "source": [
    "## 3. Pipeline complet"
   ]
  },
  {
   "cell_type": "code",
   "execution_count": 19,
   "id": "a71065ef",
   "metadata": {},
   "outputs": [],
   "source": [
    "def full_plate_pipeline(image_path):\n",
    "    \"\"\"Pipeline complet de lecture et extraction OCR sur une plaque.\"\"\"\n",
    "    image = load_image(image_path)\n",
    "    preprocessed = preprocess_image(image)\n",
    "    edged = detect_edges(preprocessed)\n",
    "    plate = find_plate_contour(edged, image)\n",
    "\n",
    "    if plate is not None:\n",
    "        text = extract_text_from_plate(plate)\n",
    "        return text\n",
    "    else:\n",
    "        return \"Aucune plaque détectée\"\n"
   ]
  },
  {
   "cell_type": "markdown",
   "id": "57000d0a",
   "metadata": {},
   "source": [
    "## 4. Test de la pipeline"
   ]
  },
  {
   "cell_type": "code",
   "execution_count": 29,
   "id": "fdf397a0",
   "metadata": {},
   "outputs": [
    {
     "name": "stderr",
     "output_type": "stream",
     "text": [
      "Using CPU. Note: This module is much faster with a GPU.\n"
     ]
    },
    {
     "name": "stdout",
     "output_type": "stream",
     "text": [
      "Texte détecté : CMR LT665CD\n"
     ]
    }
   ],
   "source": [
    "# Exemple d'image à tester (exemple l'image 'plate.jpg' dans le répertoire)\n",
    "image_path = \"data/plate1.png\"\n",
    "#image_path = \"data/plate2.jpeg\"\n",
    "#image_path = \"data/plate3.png\"\n",
    "#image_path = \"data/plate4.png\"\n",
    "detected_text = full_plate_pipeline(image_path)\n",
    "print(\"Texte détecté :\", detected_text)\n"
   ]
  }
 ],
 "metadata": {
  "kernelspec": {
   "display_name": "Python 3",
   "language": "python",
   "name": "python3"
  },
  "language_info": {
   "codemirror_mode": {
    "name": "ipython",
    "version": 3
   },
   "file_extension": ".py",
   "mimetype": "text/x-python",
   "name": "python",
   "nbconvert_exporter": "python",
   "pygments_lexer": "ipython3",
   "version": "3.12.10"
  }
 },
 "nbformat": 4,
 "nbformat_minor": 5
}
